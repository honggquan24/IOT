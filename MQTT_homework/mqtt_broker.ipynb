{
 "cells": [
  {
   "cell_type": "code",
   "execution_count": 1,
   "metadata": {},
   "outputs": [
    {
     "name": "stdout",
     "output_type": "stream",
     "text": [
      "Connected to MQTT Broker!\n",
      "Send `messages: 1` to topic `python/mqtt`\n",
      "Send `messages: 2` to topic `python/mqtt`\n",
      "Send `messages: 3` to topic `python/mqtt`\n",
      "Send `messages: 4` to topic `python/mqtt`\n",
      "Send `messages: 5` to topic `python/mqtt`\n"
     ]
    }
   ],
   "source": [
    "# Python 3.11\n",
    "import random\n",
    "import time\n",
    "import logging\n",
    "from paho.mqtt import client as mqtt_client\n",
    "\n",
    "broker = 'broker.emqx.io'\n",
    "port = 1883\n",
    "topic = \"python/mqtt\"\n",
    "client_id = f'publish-{random.randint(0, 1000)}-{int(time.time())}'\n",
    "username = 'emqx'\n",
    "password = 'public'\n",
    "\n",
    "# Enable logging\n",
    "logging.basicConfig(level=logging.DEBUG)\n",
    "\n",
    "def connect_mqtt():\n",
    "    def on_connect(client, userdata, flags, rc):\n",
    "        if rc == 0:\n",
    "            print(\"Connected to MQTT Broker!\")\n",
    "        else:\n",
    "            print(f\"Failed to connect, return code {rc}\")\n",
    "\n",
    "    client = mqtt_client.Client(client_id)\n",
    "    client.username_pw_set(username, password)\n",
    "    client.on_connect = on_connect\n",
    "    client.connect(broker, port)\n",
    "    return client\n",
    "\n",
    "def publish(client):\n",
    "    msg_count = 1\n",
    "    while msg_count <= 5:\n",
    "        time.sleep(1)\n",
    "        msg = f\"messages: {msg_count}\"\n",
    "        result = client.publish(topic, msg, qos=1)\n",
    "        status = result[0]\n",
    "        if status == 0:\n",
    "            print(f\"Send `{msg}` to topic `{topic}`\")\n",
    "        else:\n",
    "            print(f\"Failed to send message to topic {topic}\")\n",
    "        msg_count += 1\n",
    "\n",
    "def run():\n",
    "    client = connect_mqtt()\n",
    "    client.loop_start()\n",
    "    publish(client)\n",
    "    client.loop_stop()\n",
    "\n",
    "if __name__ == '__main__':\n",
    "    run()\n"
   ]
  },
  {
   "cell_type": "code",
   "execution_count": null,
   "metadata": {},
   "outputs": [
    {
     "name": "stdout",
     "output_type": "stream",
     "text": [
      "Connected to MQTT Broker!\n"
     ]
    }
   ],
   "source": [
    "# Python 3.11\n",
    "import random\n",
    "import logging\n",
    "from paho.mqtt import client as mqtt_client\n",
    "\n",
    "broker = 'broker.emqx.io'\n",
    "port = 1883\n",
    "topic = \"python/mqtt\"\n",
    "client_id = f'subscribe-{random.randint(0, 1000)}-{int(time.time())}'\n",
    "username = 'emqx'\n",
    "password = 'public'\n",
    "\n",
    "# Enable logging\n",
    "logging.basicConfig(level=logging.DEBUG)\n",
    "\n",
    "def connect_mqtt():\n",
    "    def on_connect(client, userdata, flags, rc):\n",
    "        if rc == 0:\n",
    "            print(\"Connected to MQTT Broker!\")\n",
    "        else:\n",
    "            print(f\"Failed to connect, return code {rc}\")\n",
    "\n",
    "    client = mqtt_client.Client(client_id)\n",
    "    client.username_pw_set(username, password)\n",
    "    client.on_connect = on_connect\n",
    "    client.connect(broker, port)\n",
    "    return client\n",
    "\n",
    "def subscribe(client):\n",
    "    def on_message(client, userdata, msg):\n",
    "        print(f\"Received `{msg.payload.decode()}` from `{msg.topic}` topic\")\n",
    "\n",
    "    client.subscribe(topic, qos=1)\n",
    "    client.on_message = on_message\n",
    "\n",
    "def run():\n",
    "    client = connect_mqtt()\n",
    "    subscribe(client)\n",
    "    client.loop_forever()\n",
    "\n",
    "if __name__ == '__main__':\n",
    "    run()\n"
   ]
  },
  {
   "cell_type": "code",
   "execution_count": null,
   "metadata": {},
   "outputs": [],
   "source": []
  }
 ],
 "metadata": {
  "kernelspec": {
   "display_name": "conda_env",
   "language": "python",
   "name": "python3"
  },
  "language_info": {
   "codemirror_mode": {
    "name": "ipython",
    "version": 3
   },
   "file_extension": ".py",
   "mimetype": "text/x-python",
   "name": "python",
   "nbconvert_exporter": "python",
   "pygments_lexer": "ipython3",
   "version": "3.12.7"
  }
 },
 "nbformat": 4,
 "nbformat_minor": 2
}
